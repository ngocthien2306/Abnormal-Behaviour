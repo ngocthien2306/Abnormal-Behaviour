{
 "cells": [
  {
   "cell_type": "code",
   "execution_count": 1,
   "metadata": {},
   "outputs": [],
   "source": [
    "from sklearn.svm import SVC\n",
    "from sklearn.linear_model import LogisticRegression as lr\n",
    "from sklearn.neighbors import KNeighborsClassifier\n",
    "from sklearn.model_selection import GridSearchCV\n",
    "from sklearn.metrics import roc_auc_score\n",
    "from sklearn.metrics import roc_curve\n",
    "import matplotlib.pyplot as plt\n",
    "import numpy as np\n",
    "import joblib\n",
    "from sklearn.ensemble import RandomForestClassifier\n",
    "\n",
    "\n",
    "class Classifiers(object):\n",
    "\n",
    "    def __init__(self,train_data,train_labels,name,hyperTune=True):\n",
    "        self.train_data=train_data\n",
    "        self.train_labels=train_labels\n",
    "        self.model_name=name\n",
    "        self.set_model_name()\n",
    "        #self.construct_all_models(hyperTune)\n",
    "        self.accuracy = \"\"\n",
    "        self.info_train = \"\"\n",
    "        self.test_core = \"\"\n",
    "\n",
    "    def return_info(self):\n",
    "        return self.info_train\n",
    "    \n",
    "    def return_accuracy(self):\n",
    "        return self.accuracy\n",
    "    \n",
    "    def return_test_core(self):\n",
    "        return self.test_core\n",
    "    \n",
    "    def set_model_name(self):\n",
    "        model = \"\"\n",
    "        if self.model_name == \"Suport Vector Machine\":\n",
    "            model = \"SVM\"\n",
    "    \n",
    "        elif  self.model_name == \"Logistic Regression\":\n",
    "            model = \"LogisticRegression\"\n",
    "            \n",
    "        elif  self.model_name == \"KNeighbors Classifier\":\n",
    "            model = \"KNN\"\n",
    "            \n",
    "        elif self.model_name == \"Random Forest Classifier\":\n",
    "            model = \"RandomForestClassifier\"\n",
    "            \n",
    "        self.model_name = model\n",
    "        \n",
    "        \n",
    "    def store_model(self, model, model_name = \"\"):\n",
    "        # NOTE: sklearn.joblib faster than pickle of Python\n",
    "        # INFO: can store only ONE object in a file\n",
    "        if model_name == \"\": \n",
    "            model_name = type(model).__name__\n",
    "        joblib.dump(model,'models/' + model_name + '_model.pkl')\n",
    "    \n",
    "    def construct_all_models(self,hyperTune):\n",
    "        if hyperTune:\n",
    "            #3 models KNN SCM and LR\n",
    "            self.models={'SVM':[SVC(kernel='linear',probability=True),dict(C=np.arange(0.01, 2.01, 0.2))],\\\n",
    "                         'LogisticRegression':[lr(),dict(C=np.arange(0.1,3,0.1))],\\\n",
    "                         'KNN':[KNeighborsClassifier(),dict(n_neighbors=range(1, 100))],\\\n",
    "                         'RandomForestClassifier': [RandomForestClassifier(n_estimators=100), dict(min_samples_leaf=np.arange(2, 20, 1))]}\n",
    "            for name,candidate_hyperParam in self.models.items():\n",
    "                #update each classifier after training and tuning\n",
    "                if name == self.model_name:\n",
    "             \n",
    "                    self.models[name] = self.train_with_hyperParamTuning(candidate_hyperParam[0],name,candidate_hyperParam[1])\n",
    "                   \n",
    "            print ('\\nTraining process finished\\n\\n\\n')\n",
    "            \n",
    "        return self.accuracy, self.test_core, self.info_train\n",
    "\n",
    "    def train_with_hyperParamTuning(self,model,name,param_grid):\n",
    "        #grid search method for hyper-parameter tuning\n",
    "        grid = GridSearchCV(model, param_grid, cv=10, scoring='accuracy', n_jobs=-1)\n",
    "        grid.fit(self.train_data, self.train_labels)\n",
    "        joblib.dump(grid,'saved_objects/' + name  + '_gridsearch.pkl')\n",
    "        self.store_model(grid, name)\n",
    "        \n",
    "        self.info_train = '\\nThe best hyper-parameter for -- {} is {}, the corresponding mean accuracy through 10 Fold test is {} \\n'\\\n",
    "            .format(name, grid.best_params_, grid.best_score_)\n",
    "        print(self.info_train)\n",
    "\n",
    "        model = grid.best_estimator_\n",
    "        train_pred = model.predict(self.train_data)\n",
    "        self.accuracy = '{} train accuracy = {}\\n'.format(name,(train_pred == self.train_labels).mean())\n",
    "        print(self.accuracy)\n",
    "        \n",
    "       \n",
    "        return model\n",
    "\n",
    "    def prediction_metrics(self,test_data,test_labels,name):\n",
    "\n",
    "        #accuracy\n",
    "        self.test_core = '{} test accuracy = {}\\n'.format(self.model_name,(self.models[self.model_name].predict(test_data) == test_labels).mean())\n",
    "        print(self.test_core)\n",
    "\n",
    "        #AUC of ROC\n",
    "        prob = self.models[self.model_name].predict_proba(test_data)\n",
    "        auc=roc_auc_score(test_labels,prob[:,1])\n",
    "        print('Classifier {} area under curve of ROC is {}\\n'.format(self.model_name,auc))\n",
    "\n",
    "        #ROC\n",
    "        fpr, tpr, thresholds = roc_curve(test_labels, prob[:,1], pos_label=1)\n",
    "        #self.roc_plot(fpr,tpr,name,auc)\n",
    "        return self.test_core\n",
    "\n",
    "    def roc_plot(self,fpr,tpr,name,auc):\n",
    "        plt.figure(figsize=(20,5))\n",
    "        plt.plot(fpr,tpr)\n",
    "        plt.ylim([0.0,1.0])\n",
    "        plt.ylim([0.0, 1.0])\n",
    "        plt.title('ROC of {}     AUC: {}\\nPlease close it to continue'.format(name,auc))\n",
    "        plt.xlabel('False Positive Rate')\n",
    "        plt.ylabel('True Positive Rate')\n",
    "        plt.grid(True)\n",
    "        plt.show()"
   ]
  },
  {
   "cell_type": "code",
   "execution_count": 2,
   "metadata": {},
   "outputs": [],
   "source": [
    "import pandas as pd\n",
    "raw_data = pd.read_csv('trainning_data.csv')"
   ]
  },
  {
   "cell_type": "code",
   "execution_count": 3,
   "metadata": {},
   "outputs": [
    {
     "name": "stdout",
     "output_type": "stream",
     "text": [
      "<class 'pandas.core.frame.DataFrame'>\n",
      "RangeIndex: 40 entries, 0 to 39\n",
      "Data columns (total 7 columns):\n",
      " #   Column        Non-Null Count  Dtype \n",
      "---  ------        --------------  ----- \n",
      " 0   label         40 non-null     object\n",
      " 1   id            40 non-null     object\n",
      " 2   student name  40 non-null     object\n",
      " 3   ip            40 non-null     object\n",
      " 4   phone         26 non-null     object\n",
      " 5   date          40 non-null     object\n",
      " 6   model         23 non-null     object\n",
      "dtypes: object(7)\n",
      "memory usage: 2.3+ KB\n"
     ]
    }
   ],
   "source": [
    "#\"label\", \"phone\", \"student name\", \"id\", \"date\", \"ip\", \"model\"\n",
    "import pandas as pd\n",
    "raw_data = pd.read_csv('exam_data.csv')\n",
    "select_columns = raw_data[[\"label\", \"id\", \"student name\", \"ip\", \"phone\", \"date\", \"model\"]]\n",
    "select_columns.info()"
   ]
  },
  {
   "cell_type": "code",
   "execution_count": 4,
   "metadata": {},
   "outputs": [],
   "source": [
    "from sklearn.model_selection import train_test_split\n",
    "train_set, test_set = train_test_split(raw_data, test_size=0.30, random_state=42) # set random_state to get the same training set all the time, \n",
    "\n",
    "train_set_labels = train_set[\"label\"].copy()\n",
    "train_set = train_set.drop(columns = \"label\") \n",
    "test_set_labels = test_set[\"label\"].copy()\n",
    "test_set = test_set.drop(columns = \"label\") "
   ]
  },
  {
   "cell_type": "code",
   "execution_count": 8,
   "metadata": {},
   "outputs": [],
   "source": [
    "classifiers = Classifiers(train_set,train_set_labels, \"Random Forest Classifier\")"
   ]
  },
  {
   "cell_type": "code",
   "execution_count": 9,
   "metadata": {},
   "outputs": [
    {
     "name": "stdout",
     "output_type": "stream",
     "text": [
      "\n",
      "The best hyper-parameter for -- RandomForestClassifier is {'min_samples_leaf': 3}, the corresponding mean accuracy through 10 Fold test is 0.8874999999999998 \n",
      "\n",
      "RandomForestClassifier train accuracy = 1.0\n",
      "\n",
      "\n",
      "Training process finished\n",
      "\n",
      "\n",
      "\n"
     ]
    }
   ],
   "source": [
    "accuracy, test_core, info_train = classifiers.construct_all_models(hyperTune=True)\n"
   ]
  },
  {
   "cell_type": "code",
   "execution_count": null,
   "metadata": {},
   "outputs": [],
   "source": [
    "for name,candidate_hyperParam in classifiers.models.items():\n",
    "  print(candidate_hyperParam)"
   ]
  },
  {
   "cell_type": "code",
   "execution_count": 37,
   "metadata": {},
   "outputs": [
    {
     "name": "stdout",
     "output_type": "stream",
     "text": [
      "KNN test accuracy = 0.6923076923076923\n",
      "\n",
      "Classifier KNN area under curve of ROC is 0.7662721893491125\n",
      "\n"
     ]
    },
    {
     "name": "stderr",
     "output_type": "stream",
     "text": [
      "c:\\Python310\\lib\\site-packages\\sklearn\\metrics\\_ranking.py:999: UndefinedMetricWarning: No positive samples in y_true, true positive value should be meaningless\n",
      "  warnings.warn(\n"
     ]
    },
    {
     "data": {
      "image/png": "[encoded data removed]",
      "text/plain": [
       "<Figure size 1440x360 with 1 Axes>"
      ]
     },
     "metadata": {
      "needs_background": "light"
     },
     "output_type": "display_data"
    }
   ],
   "source": [
    "classifiers.prediction_metrics(test_set, test_set_labels, 'KNN')"
   ]
  },
  {
   "cell_type": "code",
   "execution_count": 38,
   "metadata": {},
   "outputs": [
    {
     "name": "stdout",
     "output_type": "stream",
     "text": [
      "LogisticRegression test accuracy = 0.7307692307692307\n",
      "\n",
      "Classifier LogisticRegression area under curve of ROC is 0.7174556213017752\n",
      "\n"
     ]
    },
    {
     "name": "stderr",
     "output_type": "stream",
     "text": [
      "c:\\Python310\\lib\\site-packages\\sklearn\\metrics\\_ranking.py:999: UndefinedMetricWarning: No positive samples in y_true, true positive value should be meaningless\n",
      "  warnings.warn(\n"
     ]
    },
    {
     "data": {
      "image/png": "[encoded data removed]",
      "text/plain": [
       "<Figure size 1440x360 with 1 Axes>"
      ]
     },
     "metadata": {
      "needs_background": "light"
     },
     "output_type": "display_data"
    }
   ],
   "source": [
    "classifiers.prediction_metrics(test_set, test_set_labels, 'LogisticRegression')"
   ]
  },
  {
   "cell_type": "code",
   "execution_count": 39,
   "metadata": {},
   "outputs": [
    {
     "name": "stdout",
     "output_type": "stream",
     "text": [
      "SVM test accuracy = 0.7307692307692307\n",
      "\n",
      "Classifier SVM area under curve of ROC is 0.7381656804733727\n",
      "\n"
     ]
    },
    {
     "name": "stderr",
     "output_type": "stream",
     "text": [
      "c:\\Python310\\lib\\site-packages\\sklearn\\metrics\\_ranking.py:999: UndefinedMetricWarning: No positive samples in y_true, true positive value should be meaningless\n",
      "  warnings.warn(\n"
     ]
    },
    {
     "data": {
      "image/png": "[encoded data removed]",
      "text/plain": [
       "<Figure size 1440x360 with 1 Axes>"
      ]
     },
     "metadata": {
      "needs_background": "light"
     },
     "output_type": "display_data"
    }
   ],
   "source": [
    "classifiers.prediction_metrics(test_set, test_set_labels, 'SVM')"
   ]
  },
  {
   "cell_type": "code",
   "execution_count": 11,
   "metadata": {},
   "outputs": [
    {
     "name": "stdout",
     "output_type": "stream",
     "text": [
      "LogisticRegression test accuracy = 0.6666666666666666\n",
      "\n"
     ]
    }
   ],
   "source": [
    "name = 'LogisticRegression'\n",
    "print('{} test accuracy = {}\\n'.format(name,(classifiers.models[name].predict(test_set) == test_set_labels).mean()))\n",
    "prob = classifiers.models[name].predict_proba(test_set)\n"
   ]
  },
  {
   "cell_type": "code",
   "execution_count": null,
   "metadata": {},
   "outputs": [],
   "source": [
    "auc = roc_auc_score(test_set_labels, prob[:,1])\n",
    "print('Classifier {} area under curve of ROC is {}\\n'.format(name,auc))\n",
    "\n",
    "fpr, tpr, thresholds = roc_curve(test_set_labels, prob[:,1], pos_label=1)"
   ]
  },
  {
   "cell_type": "code",
   "execution_count": null,
   "metadata": {},
   "outputs": [],
   "source": [
    "def roc_plot(self,fpr,tpr,name,auc):\n",
    "        plt.figure(figsize=(20,5))\n",
    "        plt.plot(fpr,tpr)\n",
    "        plt.ylim([0.0,1.0])\n",
    "        plt.ylim([0.0, 1.0])\n",
    "        plt.title('ROC of {}     AUC: {}\\nPlease close it to continue'.format(name,auc))\n",
    "        plt.xlabel('False Positive Rate')\n",
    "        plt.ylabel('True Positive Rate')\n",
    "        plt.grid(True)\n",
    "        plt.show()"
   ]
  },
  {
   "cell_type": "code",
   "execution_count": null,
   "metadata": {},
   "outputs": [],
   "source": [
    "classifiers.roc_plot(fpr, tpr, name, auc)"
   ]
  },
  {
   "cell_type": "code",
   "execution_count": null,
   "metadata": {},
   "outputs": [],
   "source": []
  }
 ],
 "metadata": {
  "kernelspec": {
   "display_name": "Python 3.9.12 ('base')",
   "language": "python",
   "name": "python3"
  },
  "language_info": {
   "codemirror_mode": {
    "name": "ipython",
    "version": 3
   },
   "file_extension": ".py",
   "mimetype": "text/x-python",
   "name": "python",
   "nbconvert_exporter": "python",
   "pygments_lexer": "ipython3",
   "version": "3.9.12"
  },
  "orig_nbformat": 4,
  "vscode": {
   "interpreter": {
    "hash": "dc07d24e2f18896857f0b2a651fe84ba40ce7b297e58d8804a308c8039f752a6"
   }
  }
 },
 "nbformat": 4,
 "nbformat_minor": 2
}
